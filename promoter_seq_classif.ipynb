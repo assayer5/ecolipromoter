{
 "cells": [
  {
   "cell_type": "code",
   "execution_count": 1,
   "id": "8cd7a0ca",
   "metadata": {},
   "outputs": [],
   "source": [
    "import numpy as np\n",
    "import pandas as pd\n",
    "import matplotlib.pyplot as plt\n",
    "from sklearn.preprocessing import LabelEncoder\n",
    "from sklearn.model_selection import train_test_split, StratifiedKFold\n",
    "from sklearn.feature_extraction.text import CountVectorizer\n",
    "from sklearn.naive_bayes import MultinomialNB\n",
    "from sklearn.linear_model import LogisticRegression\n",
    "from sklearn.metrics import ConfusionMatrixDisplay, precision_recall_fscore_support, roc_curve, RocCurveDisplay"
   ]
  },
  {
   "cell_type": "markdown",
   "id": "08a1ca6a",
   "metadata": {},
   "source": [
    "Take a look at data"
   ]
  },
  {
   "cell_type": "code",
   "execution_count": 2,
   "id": "34f1249a",
   "metadata": {},
   "outputs": [
    {
     "data": {
      "text/html": [
       "<div>\n",
       "<style scoped>\n",
       "    .dataframe tbody tr th:only-of-type {\n",
       "        vertical-align: middle;\n",
       "    }\n",
       "\n",
       "    .dataframe tbody tr th {\n",
       "        vertical-align: top;\n",
       "    }\n",
       "\n",
       "    .dataframe thead th {\n",
       "        text-align: right;\n",
       "    }\n",
       "</style>\n",
       "<table border=\"1\" class=\"dataframe\">\n",
       "  <thead>\n",
       "    <tr style=\"text-align: right;\">\n",
       "      <th></th>\n",
       "      <th>class</th>\n",
       "      <th>name</th>\n",
       "      <th>sequence</th>\n",
       "    </tr>\n",
       "  </thead>\n",
       "  <tbody>\n",
       "    <tr>\n",
       "      <th>0</th>\n",
       "      <td>+</td>\n",
       "      <td>S10</td>\n",
       "      <td>tactagcaatacgcttgcgttcggtggttaagtatgtataatgcgc...</td>\n",
       "    </tr>\n",
       "    <tr>\n",
       "      <th>1</th>\n",
       "      <td>+</td>\n",
       "      <td>AMPC</td>\n",
       "      <td>tgctatcctgacagttgtcacgctgattggtgtcgttacaatctaa...</td>\n",
       "    </tr>\n",
       "    <tr>\n",
       "      <th>2</th>\n",
       "      <td>+</td>\n",
       "      <td>AROH</td>\n",
       "      <td>gtactagagaactagtgcattagcttatttttttgttatcatgcta...</td>\n",
       "    </tr>\n",
       "    <tr>\n",
       "      <th>3</th>\n",
       "      <td>+</td>\n",
       "      <td>DEOP2</td>\n",
       "      <td>aattgtgatgtgtatcgaagtgtgttgcggagtagatgttagaata...</td>\n",
       "    </tr>\n",
       "    <tr>\n",
       "      <th>4</th>\n",
       "      <td>+</td>\n",
       "      <td>LEU1_TRNA</td>\n",
       "      <td>tcgataattaactattgacgaaaagctgaaaaccactagaatgcgc...</td>\n",
       "    </tr>\n",
       "    <tr>\n",
       "      <th>...</th>\n",
       "      <td>...</td>\n",
       "      <td>...</td>\n",
       "      <td>...</td>\n",
       "    </tr>\n",
       "    <tr>\n",
       "      <th>101</th>\n",
       "      <td>-</td>\n",
       "      <td>799</td>\n",
       "      <td>cctcaatggcctctaaacgggtcttgaggggttttttgctgaaagg...</td>\n",
       "    </tr>\n",
       "    <tr>\n",
       "      <th>102</th>\n",
       "      <td>-</td>\n",
       "      <td>987</td>\n",
       "      <td>gtattctcaacaagattaaccgacagattcaatctcgtggatggac...</td>\n",
       "    </tr>\n",
       "    <tr>\n",
       "      <th>103</th>\n",
       "      <td>-</td>\n",
       "      <td>1226</td>\n",
       "      <td>cgcgactacgatgagatgcctgagtgcttccgttactggattgtca...</td>\n",
       "    </tr>\n",
       "    <tr>\n",
       "      <th>104</th>\n",
       "      <td>-</td>\n",
       "      <td>794</td>\n",
       "      <td>ctcgtcctcaatggcctctaaacgggtcttgaggggttttttgctg...</td>\n",
       "    </tr>\n",
       "    <tr>\n",
       "      <th>105</th>\n",
       "      <td>-</td>\n",
       "      <td>1442</td>\n",
       "      <td>taacattaataaataaggaggctctaatggcactcattagccaatc...</td>\n",
       "    </tr>\n",
       "  </tbody>\n",
       "</table>\n",
       "<p>106 rows × 3 columns</p>\n",
       "</div>"
      ],
      "text/plain": [
       "    class       name                                           sequence\n",
       "0       +        S10  tactagcaatacgcttgcgttcggtggttaagtatgtataatgcgc...\n",
       "1       +       AMPC  tgctatcctgacagttgtcacgctgattggtgtcgttacaatctaa...\n",
       "2       +       AROH  gtactagagaactagtgcattagcttatttttttgttatcatgcta...\n",
       "3       +      DEOP2  aattgtgatgtgtatcgaagtgtgttgcggagtagatgttagaata...\n",
       "4       +  LEU1_TRNA  tcgataattaactattgacgaaaagctgaaaaccactagaatgcgc...\n",
       "..    ...        ...                                                ...\n",
       "101     -        799  cctcaatggcctctaaacgggtcttgaggggttttttgctgaaagg...\n",
       "102     -        987  gtattctcaacaagattaaccgacagattcaatctcgtggatggac...\n",
       "103     -       1226  cgcgactacgatgagatgcctgagtgcttccgttactggattgtca...\n",
       "104     -        794  ctcgtcctcaatggcctctaaacgggtcttgaggggttttttgctg...\n",
       "105     -       1442  taacattaataaataaggaggctctaatggcactcattagccaatc...\n",
       "\n",
       "[106 rows x 3 columns]"
      ]
     },
     "execution_count": 2,
     "metadata": {},
     "output_type": "execute_result"
    }
   ],
   "source": [
    "data = pd.read_csv('promoter_seq.csv', index_col=[0])\n",
    "data"
   ]
  },
  {
   "cell_type": "code",
   "execution_count": 3,
   "id": "313aae87",
   "metadata": {},
   "outputs": [
    {
     "name": "stdout",
     "output_type": "stream",
     "text": [
      "Classes. + if promoter, - if non-promoter\n",
      "+    53\n",
      "-    53\n",
      "Name: class, dtype: int64\n",
      "<class 'pandas.core.frame.DataFrame'>\n",
      "Int64Index: 106 entries, 0 to 105\n",
      "Data columns (total 2 columns):\n",
      " #   Column    Non-Null Count  Dtype \n",
      "---  ------    --------------  ----- \n",
      " 0   class     106 non-null    object\n",
      " 1   sequence  106 non-null    object\n",
      "dtypes: object(2)\n",
      "memory usage: 2.5+ KB\n"
     ]
    }
   ],
   "source": [
    "data = data.drop('name', axis=1)\n",
    "print('Classes. + if promoter, - if non-promoter')\n",
    "print(data['class'].value_counts())\n",
    "data.info()"
   ]
  },
  {
   "cell_type": "markdown",
   "id": "6b5e238e",
   "metadata": {},
   "source": [
    "Prepare data for model"
   ]
  },
  {
   "cell_type": "code",
   "execution_count": 4,
   "id": "aa3133dd",
   "metadata": {},
   "outputs": [
    {
     "data": {
      "text/plain": [
       "8"
      ]
     },
     "execution_count": 4,
     "metadata": {},
     "output_type": "execute_result"
    }
   ],
   "source": [
    "def countgc(sequence):\n",
    "    sequence = list(str.lower(sequence))\n",
    "    gc = [1 for item in sequence if item in ['g','c']]\n",
    "    return sum(gc)\n",
    "\n",
    "countgc('atcggtacctaggAC')"
   ]
  },
  {
   "cell_type": "code",
   "execution_count": 5,
   "id": "030e50f9",
   "metadata": {},
   "outputs": [],
   "source": [
    "def makekmer(sequence, size):\n",
    "    # make list of k-mers of length 'size' from sequence\n",
    "    kmers = [sequence[x:x+size] for x in range(len(sequence) - size + 1)]\n",
    "    # join k-mers into sentence\n",
    "    kmers = ' '.join(kmers)\n",
    "    return kmers"
   ]
  },
  {
   "cell_type": "code",
   "execution_count": 6,
   "id": "0555b56d",
   "metadata": {},
   "outputs": [
    {
     "name": "stdout",
     "output_type": "stream",
     "text": [
      "classes:  ['+' '-']\n"
     ]
    },
    {
     "data": {
      "text/html": [
       "<div>\n",
       "<style scoped>\n",
       "    .dataframe tbody tr th:only-of-type {\n",
       "        vertical-align: middle;\n",
       "    }\n",
       "\n",
       "    .dataframe tbody tr th {\n",
       "        vertical-align: top;\n",
       "    }\n",
       "\n",
       "    .dataframe thead th {\n",
       "        text-align: right;\n",
       "    }\n",
       "</style>\n",
       "<table border=\"1\" class=\"dataframe\">\n",
       "  <thead>\n",
       "    <tr style=\"text-align: right;\">\n",
       "      <th></th>\n",
       "      <th>class</th>\n",
       "      <th>sequence</th>\n",
       "      <th>seqlen</th>\n",
       "      <th>num_gc</th>\n",
       "      <th>pct_gc</th>\n",
       "      <th>kmers</th>\n",
       "    </tr>\n",
       "  </thead>\n",
       "  <tbody>\n",
       "    <tr>\n",
       "      <th>0</th>\n",
       "      <td>0</td>\n",
       "      <td>tactagcaatacgcttgcgttcggtggttaagtatgtataatgcgc...</td>\n",
       "      <td>57</td>\n",
       "      <td>27</td>\n",
       "      <td>0.474</td>\n",
       "      <td>tactag actagc ctagca tagcaa agcaat gcaata caat...</td>\n",
       "    </tr>\n",
       "    <tr>\n",
       "      <th>1</th>\n",
       "      <td>0</td>\n",
       "      <td>tgctatcctgacagttgtcacgctgattggtgtcgttacaatctaa...</td>\n",
       "      <td>57</td>\n",
       "      <td>27</td>\n",
       "      <td>0.474</td>\n",
       "      <td>tgctat gctatc ctatcc tatcct atcctg tcctga cctg...</td>\n",
       "    </tr>\n",
       "    <tr>\n",
       "      <th>2</th>\n",
       "      <td>0</td>\n",
       "      <td>gtactagagaactagtgcattagcttatttttttgttatcatgcta...</td>\n",
       "      <td>57</td>\n",
       "      <td>23</td>\n",
       "      <td>0.404</td>\n",
       "      <td>gtacta tactag actaga ctagag tagaga agagaa gaga...</td>\n",
       "    </tr>\n",
       "    <tr>\n",
       "      <th>3</th>\n",
       "      <td>0</td>\n",
       "      <td>aattgtgatgtgtatcgaagtgtgttgcggagtagatgttagaata...</td>\n",
       "      <td>57</td>\n",
       "      <td>21</td>\n",
       "      <td>0.368</td>\n",
       "      <td>aattgt attgtg ttgtga tgtgat gtgatg tgatgt gatg...</td>\n",
       "    </tr>\n",
       "    <tr>\n",
       "      <th>4</th>\n",
       "      <td>0</td>\n",
       "      <td>tcgataattaactattgacgaaaagctgaaaaccactagaatgcgc...</td>\n",
       "      <td>57</td>\n",
       "      <td>24</td>\n",
       "      <td>0.421</td>\n",
       "      <td>tcgata cgataa gataat ataatt taatta aattaa atta...</td>\n",
       "    </tr>\n",
       "    <tr>\n",
       "      <th>...</th>\n",
       "      <td>...</td>\n",
       "      <td>...</td>\n",
       "      <td>...</td>\n",
       "      <td>...</td>\n",
       "      <td>...</td>\n",
       "      <td>...</td>\n",
       "    </tr>\n",
       "    <tr>\n",
       "      <th>101</th>\n",
       "      <td>1</td>\n",
       "      <td>cctcaatggcctctaaacgggtcttgaggggttttttgctgaaagg...</td>\n",
       "      <td>57</td>\n",
       "      <td>26</td>\n",
       "      <td>0.456</td>\n",
       "      <td>cctcaa ctcaat tcaatg caatgg aatggc atggcc tggc...</td>\n",
       "    </tr>\n",
       "    <tr>\n",
       "      <th>102</th>\n",
       "      <td>1</td>\n",
       "      <td>gtattctcaacaagattaaccgacagattcaatctcgtggatggac...</td>\n",
       "      <td>57</td>\n",
       "      <td>23</td>\n",
       "      <td>0.404</td>\n",
       "      <td>gtattc tattct attctc ttctca tctcaa ctcaac tcaa...</td>\n",
       "    </tr>\n",
       "    <tr>\n",
       "      <th>103</th>\n",
       "      <td>1</td>\n",
       "      <td>cgcgactacgatgagatgcctgagtgcttccgttactggattgtca...</td>\n",
       "      <td>57</td>\n",
       "      <td>31</td>\n",
       "      <td>0.544</td>\n",
       "      <td>cgcgac gcgact cgacta gactac actacg ctacga tacg...</td>\n",
       "    </tr>\n",
       "    <tr>\n",
       "      <th>104</th>\n",
       "      <td>1</td>\n",
       "      <td>ctcgtcctcaatggcctctaaacgggtcttgaggggttttttgctg...</td>\n",
       "      <td>57</td>\n",
       "      <td>29</td>\n",
       "      <td>0.509</td>\n",
       "      <td>ctcgtc tcgtcc cgtcct gtcctc tcctca cctcaa ctca...</td>\n",
       "    </tr>\n",
       "    <tr>\n",
       "      <th>105</th>\n",
       "      <td>1</td>\n",
       "      <td>taacattaataaataaggaggctctaatggcactcattagccaatc...</td>\n",
       "      <td>57</td>\n",
       "      <td>19</td>\n",
       "      <td>0.333</td>\n",
       "      <td>taacat aacatt acatta cattaa attaat ttaata taat...</td>\n",
       "    </tr>\n",
       "  </tbody>\n",
       "</table>\n",
       "<p>106 rows × 6 columns</p>\n",
       "</div>"
      ],
      "text/plain": [
       "     class                                           sequence  seqlen  num_gc  \\\n",
       "0        0  tactagcaatacgcttgcgttcggtggttaagtatgtataatgcgc...      57      27   \n",
       "1        0  tgctatcctgacagttgtcacgctgattggtgtcgttacaatctaa...      57      27   \n",
       "2        0  gtactagagaactagtgcattagcttatttttttgttatcatgcta...      57      23   \n",
       "3        0  aattgtgatgtgtatcgaagtgtgttgcggagtagatgttagaata...      57      21   \n",
       "4        0  tcgataattaactattgacgaaaagctgaaaaccactagaatgcgc...      57      24   \n",
       "..     ...                                                ...     ...     ...   \n",
       "101      1  cctcaatggcctctaaacgggtcttgaggggttttttgctgaaagg...      57      26   \n",
       "102      1  gtattctcaacaagattaaccgacagattcaatctcgtggatggac...      57      23   \n",
       "103      1  cgcgactacgatgagatgcctgagtgcttccgttactggattgtca...      57      31   \n",
       "104      1  ctcgtcctcaatggcctctaaacgggtcttgaggggttttttgctg...      57      29   \n",
       "105      1  taacattaataaataaggaggctctaatggcactcattagccaatc...      57      19   \n",
       "\n",
       "     pct_gc                                              kmers  \n",
       "0     0.474  tactag actagc ctagca tagcaa agcaat gcaata caat...  \n",
       "1     0.474  tgctat gctatc ctatcc tatcct atcctg tcctga cctg...  \n",
       "2     0.404  gtacta tactag actaga ctagag tagaga agagaa gaga...  \n",
       "3     0.368  aattgt attgtg ttgtga tgtgat gtgatg tgatgt gatg...  \n",
       "4     0.421  tcgata cgataa gataat ataatt taatta aattaa atta...  \n",
       "..      ...                                                ...  \n",
       "101   0.456  cctcaa ctcaat tcaatg caatgg aatggc atggcc tggc...  \n",
       "102   0.404  gtattc tattct attctc ttctca tctcaa ctcaac tcaa...  \n",
       "103   0.544  cgcgac gcgact cgacta gactac actacg ctacga tacg...  \n",
       "104   0.509  ctcgtc tcgtcc cgtcct gtcctc tcctca cctcaa ctca...  \n",
       "105   0.333  taacat aacatt acatta cattaa attaat ttaata taat...  \n",
       "\n",
       "[106 rows x 6 columns]"
      ]
     },
     "execution_count": 6,
     "metadata": {},
     "output_type": "execute_result"
    }
   ],
   "source": [
    "# convert sequences into 'sentences' of k-mers\n",
    "data['seqlen'] = data['sequence'].apply(len)\n",
    "data['num_gc'] = data['sequence'].apply(countgc)\n",
    "data['pct_gc'] = (data['num_gc']/data['seqlen']).round(3)\n",
    "data['kmers'] = data['sequence'].apply(lambda x: makekmer(x, size=6))\n",
    "# label encode class\n",
    "le = LabelEncoder()\n",
    "data['class'] = le.fit_transform(data['class'])\n",
    "print('classes: ',le.classes_)\n",
    "data"
   ]
  },
  {
   "cell_type": "code",
   "execution_count": 7,
   "id": "b6cdacae",
   "metadata": {},
   "outputs": [
    {
     "data": {
      "text/plain": [
       "0.43664464536626246"
      ]
     },
     "execution_count": 7,
     "metadata": {},
     "output_type": "execute_result"
    },
    {
     "data": {
      "image/png": "[encoded data removed]",
      "text/plain": [
       "<Figure size 432x288 with 1 Axes>"
      ]
     },
     "metadata": {
      "needs_background": "light"
     },
     "output_type": "display_data"
    }
   ],
   "source": [
    "plt.plot(data['pct_gc'], data['class'], 'o')\n",
    "data['pct_gc'].corr(data['class'])"
   ]
  },
  {
   "cell_type": "code",
   "execution_count": 8,
   "id": "96ba9181",
   "metadata": {},
   "outputs": [
    {
     "data": {
      "text/plain": [
       "1    40\n",
       "0    39\n",
       "Name: class, dtype: int64"
      ]
     },
     "execution_count": 8,
     "metadata": {},
     "output_type": "execute_result"
    }
   ],
   "source": [
    "# split data into train and test sets\n",
    "trainx, testx, trainy, testy = train_test_split(data['kmers'], data['class'], \\\n",
    "                                                test_size=0.25, random_state=567, stratify=data['class'])\n",
    "trainy.value_counts()"
   ]
  },
  {
   "cell_type": "code",
   "execution_count": 9,
   "id": "a1737db5",
   "metadata": {
    "scrolled": true
   },
   "outputs": [
    {
     "data": {
      "text/plain": [
       "58     gccaat ccaatc caatca aatcaa atcaat tcaatc caat...\n",
       "103    cgcgac gcgact cgacta gactac actacg ctacga tacg...\n",
       "19     gcaaat caaata aaataa aataat ataatc taatca aatc...\n",
       "15     aagcaa agcaaa gcaaag caaaga aaagaa aagaaa agaa...\n",
       "27     tccagt ccagta cagtat agtata gtataa tataat ataa...\n",
       "                             ...                        \n",
       "74     catgaa atgaac tgaact gaactc aactca actcaa ctca...\n",
       "36     tcgttg cgttgt gttgta ttgtat tgtata gtatat tata...\n",
       "65     aactca actcaa ctcaag tcaagg caaggc aaggct aggc...\n",
       "45     cactaa actaat ctaatt taattt aattta atttat ttta...\n",
       "42     ttagcg tagcgg agcgga gcggat cggatc ggatcc gatc...\n",
       "Name: kmers, Length: 79, dtype: object"
      ]
     },
     "execution_count": 9,
     "metadata": {},
     "output_type": "execute_result"
    }
   ],
   "source": [
    "trainx"
   ]
  },
  {
   "cell_type": "code",
   "execution_count": 10,
   "id": "0f944b99",
   "metadata": {
    "scrolled": true
   },
   "outputs": [
    {
     "name": "stdout",
     "output_type": "stream",
     "text": [
      "bag of words shape: (79, 2042)\n",
      "frequency of features\n",
      " 1     1003\n",
      "2      515\n",
      "3      250\n",
      "4      150\n",
      "5       73\n",
      "6       19\n",
      "7       18\n",
      "8        8\n",
      "9        5\n",
      "11       1\n",
      "dtype: int64\n",
      "after dropping features, bag of words shape: (79, 1039)\n"
     ]
    },
    {
     "data": {
      "text/plain": [
       "2     515\n",
       "3     250\n",
       "4     150\n",
       "5      73\n",
       "6      19\n",
       "7      18\n",
       "8       8\n",
       "9       5\n",
       "11      1\n",
       "dtype: int64"
      ]
     },
     "execution_count": 10,
     "metadata": {},
     "output_type": "execute_result"
    }
   ],
   "source": [
    "# create 'bag of words' from k-mers\n",
    "# features of single 6-mers \n",
    "vect = CountVectorizer(ngram_range=(1,1))\n",
    "bagofwords = vect.fit_transform(trainx)\n",
    "\n",
    "bagdf = pd.DataFrame(bagofwords.toarray())\n",
    "# (# samples, # total features)\n",
    "print('bag of words shape:', bagofwords.shape)\n",
    "\n",
    "# frequency of feature occurance in train set\n",
    "featfreq = bagdf.sum(axis=0)\n",
    "print('frequency of features\\n', featfreq.value_counts())\n",
    "\n",
    "# drop features with only 1 occurance\n",
    "cols = list(featfreq[featfreq<=1].index)\n",
    "bag2 = bagdf.drop(bagdf.columns[cols], axis=1)\n",
    "\n",
    "print('after dropping features, bag of words shape:', bag2.shape)\n",
    "pd.Series(bag2.sum(axis=0)).value_counts()\n"
   ]
  },
  {
   "cell_type": "code",
   "execution_count": 11,
   "id": "7796b69e",
   "metadata": {},
   "outputs": [],
   "source": [
    "# function to drop features with only 1 occurance\n",
    "# input: bag of words, columns to drop if 'train' is set to False\n",
    "# output: reduced bag of words dataframe, list of dropped columns (if 'train' set to True) \n",
    "\n",
    "def only1(bagofwords, cols=None, train=True):\n",
    "    bowdf = pd.DataFrame(bagofwords.toarray())\n",
    "    \n",
    "    if train == True:\n",
    "        # frequency of feature occurance in train set\n",
    "        featfreq = bowdf.sum(axis=0)\n",
    "        # list of feature columns with only 1 occurance in train set\n",
    "        cols = list(featfreq[featfreq<=1].index)\n",
    "\n",
    "        # drop features with only 1 occurance\n",
    "        bow2 = bowdf.drop(bowdf.columns[cols], axis=1)\n",
    "\n",
    "        return bow2, cols\n",
    "\n",
    "    # when test or validation bag of words, drop columns only\n",
    "    else:\n",
    "        # drop features with only 1 occurance\n",
    "        bow2 = bowdf.drop(bowdf.columns[cols], axis=1)\n",
    "\n",
    "        return bow2\n"
   ]
  },
  {
   "cell_type": "markdown",
   "id": "55e28242",
   "metadata": {},
   "source": [
    "Model"
   ]
  },
  {
   "cell_type": "code",
   "execution_count": 12,
   "id": "ef7f0562",
   "metadata": {},
   "outputs": [
    {
     "name": "stdout",
     "output_type": "stream",
     "text": [
      "Accuracy Scores:  [0.8125, 0.875, 0.9375, 0.8125, 1.0]\n",
      "Mean Accuracy 0.8875\n"
     ]
    }
   ],
   "source": [
    "# generate model\n",
    "# naive bayes\n",
    "\n",
    "score=[]\n",
    "\n",
    "# split training data into folds\n",
    "skf = StratifiedKFold(n_splits=5)\n",
    "for trainidx, validx in skf.split(trainx,trainy):\n",
    "    Xtrain, ytrain = trainx.iloc[trainidx], trainy.iloc[trainidx]\n",
    "    Xval, yval = trainx.iloc[validx], trainy.iloc[validx]\n",
    "    \n",
    "    # create bag of words from train fold\n",
    "    vect = CountVectorizer(ngram_range=(1,1))\n",
    "    Xtrain = vect.fit_transform(Xtrain)\n",
    "    \n",
    "    # drop features with only 1 occurance\n",
    "    Xtrain2, cols = only1(Xtrain)\n",
    "    \n",
    "    Xval = vect.transform(Xval)\n",
    "    Xval2 = only1(Xval, cols, train=False)\n",
    "   \n",
    "    # fit classifier\n",
    "    clf = MultinomialNB()\n",
    "    clf.fit(Xtrain2, ytrain)\n",
    "    \n",
    "    # store score on validation set\n",
    "    score.append(clf.score(Xval2, yval))\n",
    "        \n",
    "print('Accuracy Scores: ', score)\n",
    "print('Mean Accuracy', np.mean(score))\n"
   ]
  },
  {
   "cell_type": "code",
   "execution_count": 13,
   "id": "4979d1df",
   "metadata": {},
   "outputs": [
    {
     "name": "stdout",
     "output_type": "stream",
     "text": [
      "Accuracy:  0.9629629629629629\n"
     ]
    }
   ],
   "source": [
    "# apply model to test set\n",
    "# naive bayes\n",
    "\n",
    "# create bag of words from train set\n",
    "vect = CountVectorizer(ngram_range=(1,1))\n",
    "trainbow = vect.fit_transform(trainx)\n",
    "\n",
    "# drop features with only 1 occurance\n",
    "trainbow2, cols = only1(trainbow)\n",
    "\n",
    "testbow = vect.transform(testx)\n",
    "testbow2 = only1(testbow, cols, train=False)\n",
    "\n",
    "# fit classifier\n",
    "clf = MultinomialNB()\n",
    "clf.fit(trainbow2, trainy)\n",
    "\n",
    "# store score on validation set\n",
    "ypred = clf.predict(testbow2)\n",
    "\n",
    "# store probability estimates\n",
    "yprob = clf.predict_proba(testbow2)\n",
    "\n",
    "print('Accuracy: ', clf.score(testbow2, testy))"
   ]
  },
  {
   "cell_type": "code",
   "execution_count": 14,
   "id": "9d156461",
   "metadata": {},
   "outputs": [
    {
     "data": {
      "text/plain": [
       "<sklearn.metrics._plot.confusion_matrix.ConfusionMatrixDisplay at 0x188d2f258b0>"
      ]
     },
     "execution_count": 14,
     "metadata": {},
     "output_type": "execute_result"
    },
    {
     "data": {
      "image/png": "[encoded data removed]",
      "text/plain": [
       "<Figure size 432x288 with 2 Axes>"
      ]
     },
     "metadata": {
      "needs_background": "light"
     },
     "output_type": "display_data"
    }
   ],
   "source": [
    "ConfusionMatrixDisplay.from_predictions(testy, ypred, display_labels=['+','-'])"
   ]
  },
  {
   "cell_type": "code",
   "execution_count": 15,
   "id": "9f034ef7",
   "metadata": {},
   "outputs": [
    {
     "name": "stdout",
     "output_type": "stream",
     "text": [
      "Precision:  [1.         0.92857143]\n",
      "Recall:  [0.92857143 1.        ]\n"
     ]
    }
   ],
   "source": [
    "# misclassified promoters\n",
    "precision, recall, fscore, support = precision_recall_fscore_support(testy, ypred)\n",
    "print('Precision: ', precision)\n",
    "print('Recall: ', recall)"
   ]
  },
  {
   "cell_type": "code",
   "execution_count": 16,
   "id": "2602914e",
   "metadata": {},
   "outputs": [
    {
     "data": {
      "text/plain": [
       "<sklearn.metrics._plot.roc_curve.RocCurveDisplay at 0x188d2f25880>"
      ]
     },
     "execution_count": 16,
     "metadata": {},
     "output_type": "execute_result"
    },
    {
     "data": {
      "image/png": "[encoded data removed]",
      "text/plain": [
       "<Figure size 432x288 with 1 Axes>"
      ]
     },
     "metadata": {
      "needs_background": "light"
     },
     "output_type": "display_data"
    }
   ],
   "source": [
    "# naive bayes ROC \n",
    "# using probability estimates of positive class (probability of being a promoter)\n",
    "RocCurveDisplay.from_predictions(testy, yprob[:,0], pos_label=0)"
   ]
  },
  {
   "cell_type": "code",
   "execution_count": 17,
   "id": "8ac9c95b",
   "metadata": {},
   "outputs": [
    {
     "name": "stdout",
     "output_type": "stream",
     "text": [
      "Accuracy Scores:  [0.8125, 0.8125, 0.875, 0.8125, 1.0]\n",
      "Mean Accuracy 0.8625\n"
     ]
    }
   ],
   "source": [
    "# generate model\n",
    "# logistic regression, l2\n",
    "\n",
    "score=[]\n",
    "\n",
    "# split training data into folds\n",
    "skf = StratifiedKFold(n_splits=5)\n",
    "for trainidx, validx in skf.split(trainx,trainy):\n",
    "    Xtrain, ytrain = trainx.iloc[trainidx], trainy.iloc[trainidx]\n",
    "    Xval, yval = trainx.iloc[validx], trainy.iloc[validx]\n",
    "    \n",
    "    # create bag of words from train fold\n",
    "    vect = CountVectorizer(ngram_range=(1,1))\n",
    "    Xtrain = vect.fit_transform(Xtrain)\n",
    "    \n",
    "    # drop features with only 1 occurance\n",
    "    Xtrain2, cols = only1(Xtrain)\n",
    "    \n",
    "    Xval = vect.transform(Xval)\n",
    "    Xval2 = only1(Xval, cols, train=False)\n",
    "   \n",
    "    # fit classifier\n",
    "    clf = LogisticRegression(solver='liblinear', penalty='l2')\n",
    "    clf.fit(Xtrain2, ytrain)\n",
    "    \n",
    "    # store score on validation set\n",
    "    score.append(clf.score(Xval2, yval))\n",
    "    \n",
    "print('Accuracy Scores: ', score)\n",
    "print('Mean Accuracy', np.mean(score))\n"
   ]
  },
  {
   "cell_type": "code",
   "execution_count": 18,
   "id": "926bf772",
   "metadata": {},
   "outputs": [
    {
     "name": "stdout",
     "output_type": "stream",
     "text": [
      "Accuracy:  0.9629629629629629\n"
     ]
    }
   ],
   "source": [
    "# apply model to test set\n",
    "# logistic regression\n",
    "\n",
    "# create bag of words from train fold\n",
    "vect = CountVectorizer(ngram_range=(1,1))\n",
    "trainbow = vect.fit_transform(trainx)\n",
    "\n",
    "# drop features with only 1 occurance\n",
    "trainbow2, cols = only1(trainbow)\n",
    "\n",
    "testbow = vect.transform(testx)\n",
    "testbow2 = only1(testbow, cols, train=False)\n",
    "\n",
    "# fit classifier\n",
    "clf = LogisticRegression(solver='liblinear', penalty='l2')\n",
    "clf.fit(trainbow2, trainy)\n",
    "\n",
    "# store score on validation set\n",
    "ypred = clf.predict(testbow2)\n",
    "\n",
    "# store probability estimates\n",
    "yprob = clf.predict_proba(testbow2)\n",
    "\n",
    "print('Accuracy: ', clf.score(testbow2, testy))"
   ]
  },
  {
   "cell_type": "code",
   "execution_count": 19,
   "id": "e9bde20c",
   "metadata": {},
   "outputs": [
    {
     "data": {
      "text/plain": [
       "<sklearn.metrics._plot.confusion_matrix.ConfusionMatrixDisplay at 0x188d4016970>"
      ]
     },
     "execution_count": 19,
     "metadata": {},
     "output_type": "execute_result"
    },
    {
     "data": {
      "image/png": "[encoded data removed]",
      "text/plain": [
       "<Figure size 432x288 with 2 Axes>"
      ]
     },
     "metadata": {
      "needs_background": "light"
     },
     "output_type": "display_data"
    }
   ],
   "source": [
    "ConfusionMatrixDisplay.from_predictions(testy, ypred, display_labels=['+','-'])"
   ]
  },
  {
   "cell_type": "code",
   "execution_count": 20,
   "id": "4aa3cef3",
   "metadata": {},
   "outputs": [
    {
     "data": {
      "text/plain": [
       "<sklearn.metrics._plot.roc_curve.RocCurveDisplay at 0x188d54e3bb0>"
      ]
     },
     "execution_count": 20,
     "metadata": {},
     "output_type": "execute_result"
    },
    {
     "data": {
      "image/png": "[encoded data removed]",
      "text/plain": [
       "<Figure size 432x288 with 1 Axes>"
      ]
     },
     "metadata": {
      "needs_background": "light"
     },
     "output_type": "display_data"
    }
   ],
   "source": [
    "# logistic regression ROC \n",
    "# using probability estimates of positive class (probability of being a promoter)\n",
    "#fpr, tpr, thresholds = roc_curve(testy, yprob[:,0], pos_label=0)\n",
    "#plt.plot(fpr, tpr)   \n",
    "RocCurveDisplay.from_predictions(testy, yprob[:,0], pos_label=0)"
   ]
  },
  {
   "cell_type": "code",
   "execution_count": null,
   "id": "5276f0b9",
   "metadata": {},
   "outputs": [],
   "source": []
  },
  {
   "cell_type": "code",
   "execution_count": null,
   "id": "56c9c7d1",
   "metadata": {},
   "outputs": [],
   "source": []
  }
 ],
 "metadata": {
  "kernelspec": {
   "display_name": "Python 3 (ipykernel)",
   "language": "python",
   "name": "python3"
  },
  "language_info": {
   "codemirror_mode": {
    "name": "ipython",
    "version": 3
   },
   "file_extension": ".py",
   "mimetype": "text/x-python",
   "name": "python",
   "nbconvert_exporter": "python",
   "pygments_lexer": "ipython3",
   "version": "3.9.12"
  }
 },
 "nbformat": 4,
 "nbformat_minor": 5
}
