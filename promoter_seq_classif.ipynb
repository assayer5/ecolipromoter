{
 "cells": [
  {
   "cell_type": "code",
   "execution_count": 1,
   "id": "8cd7a0ca",
   "metadata": {},
   "outputs": [],
   "source": [
    "import numpy as np\n",
    "import pandas as pd\n",
    "import matplotlib.pyplot as plt\n",
    "from sklearn.preprocessing import LabelEncoder\n",
    "from sklearn.model_selection import train_test_split, StratifiedKFold\n",
    "from sklearn.feature_extraction.text import CountVectorizer\n",
    "from sklearn.naive_bayes import BernoulliNB\n",
    "from sklearn.linear_model import LogisticRegression\n",
    "from sklearn.metrics import ConfusionMatrixDisplay, precision_recall_fscore_support, roc_curve, RocCurveDisplay"
   ]
  },
  {
   "cell_type": "markdown",
   "id": "08a1ca6a",
   "metadata": {},
   "source": [
    "Take a look at data"
   ]
  },
  {
   "cell_type": "code",
   "execution_count": 2,
   "id": "34f1249a",
   "metadata": {},
   "outputs": [
    {
     "data": {
      "text/html": [
       "<div>\n",
       "<style scoped>\n",
       "    .dataframe tbody tr th:only-of-type {\n",
       "        vertical-align: middle;\n",
       "    }\n",
       "\n",
       "    .dataframe tbody tr th {\n",
       "        vertical-align: top;\n",
       "    }\n",
       "\n",
       "    .dataframe thead th {\n",
       "        text-align: right;\n",
       "    }\n",
       "</style>\n",
       "<table border=\"1\" class=\"dataframe\">\n",
       "  <thead>\n",
       "    <tr style=\"text-align: right;\">\n",
       "      <th></th>\n",
       "      <th>class</th>\n",
       "      <th>name</th>\n",
       "      <th>sequence</th>\n",
       "    </tr>\n",
       "  </thead>\n",
       "  <tbody>\n",
       "    <tr>\n",
       "      <th>0</th>\n",
       "      <td>+</td>\n",
       "      <td>S10</td>\n",
       "      <td>tactagcaatacgcttgcgttcggtggttaagtatgtataatgcgc...</td>\n",
       "    </tr>\n",
       "    <tr>\n",
       "      <th>1</th>\n",
       "      <td>+</td>\n",
       "      <td>AMPC</td>\n",
       "      <td>tgctatcctgacagttgtcacgctgattggtgtcgttacaatctaa...</td>\n",
       "    </tr>\n",
       "    <tr>\n",
       "      <th>2</th>\n",
       "      <td>+</td>\n",
       "      <td>AROH</td>\n",
       "      <td>gtactagagaactagtgcattagcttatttttttgttatcatgcta...</td>\n",
       "    </tr>\n",
       "    <tr>\n",
       "      <th>3</th>\n",
       "      <td>+</td>\n",
       "      <td>DEOP2</td>\n",
       "      <td>aattgtgatgtgtatcgaagtgtgttgcggagtagatgttagaata...</td>\n",
       "    </tr>\n",
       "    <tr>\n",
       "      <th>4</th>\n",
       "      <td>+</td>\n",
       "      <td>LEU1_TRNA</td>\n",
       "      <td>tcgataattaactattgacgaaaagctgaaaaccactagaatgcgc...</td>\n",
       "    </tr>\n",
       "    <tr>\n",
       "      <th>...</th>\n",
       "      <td>...</td>\n",
       "      <td>...</td>\n",
       "      <td>...</td>\n",
       "    </tr>\n",
       "    <tr>\n",
       "      <th>101</th>\n",
       "      <td>-</td>\n",
       "      <td>799</td>\n",
       "      <td>cctcaatggcctctaaacgggtcttgaggggttttttgctgaaagg...</td>\n",
       "    </tr>\n",
       "    <tr>\n",
       "      <th>102</th>\n",
       "      <td>-</td>\n",
       "      <td>987</td>\n",
       "      <td>gtattctcaacaagattaaccgacagattcaatctcgtggatggac...</td>\n",
       "    </tr>\n",
       "    <tr>\n",
       "      <th>103</th>\n",
       "      <td>-</td>\n",
       "      <td>1226</td>\n",
       "      <td>cgcgactacgatgagatgcctgagtgcttccgttactggattgtca...</td>\n",
       "    </tr>\n",
       "    <tr>\n",
       "      <th>104</th>\n",
       "      <td>-</td>\n",
       "      <td>794</td>\n",
       "      <td>ctcgtcctcaatggcctctaaacgggtcttgaggggttttttgctg...</td>\n",
       "    </tr>\n",
       "    <tr>\n",
       "      <th>105</th>\n",
       "      <td>-</td>\n",
       "      <td>1442</td>\n",
       "      <td>taacattaataaataaggaggctctaatggcactcattagccaatc...</td>\n",
       "    </tr>\n",
       "  </tbody>\n",
       "</table>\n",
       "<p>106 rows × 3 columns</p>\n",
       "</div>"
      ],
      "text/plain": [
       "    class       name                                           sequence\n",
       "0       +        S10  tactagcaatacgcttgcgttcggtggttaagtatgtataatgcgc...\n",
       "1       +       AMPC  tgctatcctgacagttgtcacgctgattggtgtcgttacaatctaa...\n",
       "2       +       AROH  gtactagagaactagtgcattagcttatttttttgttatcatgcta...\n",
       "3       +      DEOP2  aattgtgatgtgtatcgaagtgtgttgcggagtagatgttagaata...\n",
       "4       +  LEU1_TRNA  tcgataattaactattgacgaaaagctgaaaaccactagaatgcgc...\n",
       "..    ...        ...                                                ...\n",
       "101     -        799  cctcaatggcctctaaacgggtcttgaggggttttttgctgaaagg...\n",
       "102     -        987  gtattctcaacaagattaaccgacagattcaatctcgtggatggac...\n",
       "103     -       1226  cgcgactacgatgagatgcctgagtgcttccgttactggattgtca...\n",
       "104     -        794  ctcgtcctcaatggcctctaaacgggtcttgaggggttttttgctg...\n",
       "105     -       1442  taacattaataaataaggaggctctaatggcactcattagccaatc...\n",
       "\n",
       "[106 rows x 3 columns]"
      ]
     },
     "execution_count": 2,
     "metadata": {},
     "output_type": "execute_result"
    }
   ],
   "source": [
    "data = pd.read_csv('promoter_seq.csv', index_col=[0])\n",
    "data"
   ]
  },
  {
   "cell_type": "code",
   "execution_count": 3,
   "id": "313aae87",
   "metadata": {},
   "outputs": [
    {
     "name": "stdout",
     "output_type": "stream",
     "text": [
      "Classes. + if promoter, - if non-promoter\n",
      "+    53\n",
      "-    53\n",
      "Name: class, dtype: int64\n",
      "<class 'pandas.core.frame.DataFrame'>\n",
      "Int64Index: 106 entries, 0 to 105\n",
      "Data columns (total 2 columns):\n",
      " #   Column    Non-Null Count  Dtype \n",
      "---  ------    --------------  ----- \n",
      " 0   class     106 non-null    object\n",
      " 1   sequence  106 non-null    object\n",
      "dtypes: object(2)\n",
      "memory usage: 2.5+ KB\n"
     ]
    }
   ],
   "source": [
    "data = data.drop('name', axis=1)\n",
    "print('Classes. + if promoter, - if non-promoter')\n",
    "print(data['class'].value_counts())\n",
    "data.info()"
   ]
  },
  {
   "cell_type": "markdown",
   "id": "6b5e238e",
   "metadata": {},
   "source": [
    "Prepare data for model"
   ]
  },
  {
   "cell_type": "code",
   "execution_count": 4,
   "id": "030e50f9",
   "metadata": {},
   "outputs": [],
   "source": [
    "def makekmer(sequence, size):\n",
    "    # make list of k-mers of length 'size' from sequence\n",
    "    kmers = [sequence[x:x+size] for x in range(len(sequence) - size + 1)]\n",
    "    # join k-mers into sentence\n",
    "    kmers = ' '.join(kmers)\n",
    "    return kmers"
   ]
  },
  {
   "cell_type": "code",
   "execution_count": 5,
   "id": "0555b56d",
   "metadata": {},
   "outputs": [
    {
     "name": "stdout",
     "output_type": "stream",
     "text": [
      "classes:  ['+' '-']\n"
     ]
    },
    {
     "data": {
      "text/html": [
       "<div>\n",
       "<style scoped>\n",
       "    .dataframe tbody tr th:only-of-type {\n",
       "        vertical-align: middle;\n",
       "    }\n",
       "\n",
       "    .dataframe tbody tr th {\n",
       "        vertical-align: top;\n",
       "    }\n",
       "\n",
       "    .dataframe thead th {\n",
       "        text-align: right;\n",
       "    }\n",
       "</style>\n",
       "<table border=\"1\" class=\"dataframe\">\n",
       "  <thead>\n",
       "    <tr style=\"text-align: right;\">\n",
       "      <th></th>\n",
       "      <th>class</th>\n",
       "      <th>sequence</th>\n",
       "      <th>seqlen</th>\n",
       "      <th>kmers</th>\n",
       "    </tr>\n",
       "  </thead>\n",
       "  <tbody>\n",
       "    <tr>\n",
       "      <th>0</th>\n",
       "      <td>0</td>\n",
       "      <td>tactagcaatacgcttgcgttcggtggttaagtatgtataatgcgc...</td>\n",
       "      <td>57</td>\n",
       "      <td>tacta actag ctagc tagca agcaa gcaat caata aata...</td>\n",
       "    </tr>\n",
       "    <tr>\n",
       "      <th>1</th>\n",
       "      <td>0</td>\n",
       "      <td>tgctatcctgacagttgtcacgctgattggtgtcgttacaatctaa...</td>\n",
       "      <td>57</td>\n",
       "      <td>tgcta gctat ctatc tatcc atcct tcctg cctga ctga...</td>\n",
       "    </tr>\n",
       "    <tr>\n",
       "      <th>2</th>\n",
       "      <td>0</td>\n",
       "      <td>gtactagagaactagtgcattagcttatttttttgttatcatgcta...</td>\n",
       "      <td>57</td>\n",
       "      <td>gtact tacta actag ctaga tagag agaga gagaa agaa...</td>\n",
       "    </tr>\n",
       "    <tr>\n",
       "      <th>3</th>\n",
       "      <td>0</td>\n",
       "      <td>aattgtgatgtgtatcgaagtgtgttgcggagtagatgttagaata...</td>\n",
       "      <td>57</td>\n",
       "      <td>aattg attgt ttgtg tgtga gtgat tgatg gatgt atgt...</td>\n",
       "    </tr>\n",
       "    <tr>\n",
       "      <th>4</th>\n",
       "      <td>0</td>\n",
       "      <td>tcgataattaactattgacgaaaagctgaaaaccactagaatgcgc...</td>\n",
       "      <td>57</td>\n",
       "      <td>tcgat cgata gataa ataat taatt aatta attaa ttaa...</td>\n",
       "    </tr>\n",
       "    <tr>\n",
       "      <th>...</th>\n",
       "      <td>...</td>\n",
       "      <td>...</td>\n",
       "      <td>...</td>\n",
       "      <td>...</td>\n",
       "    </tr>\n",
       "    <tr>\n",
       "      <th>101</th>\n",
       "      <td>1</td>\n",
       "      <td>cctcaatggcctctaaacgggtcttgaggggttttttgctgaaagg...</td>\n",
       "      <td>57</td>\n",
       "      <td>cctca ctcaa tcaat caatg aatgg atggc tggcc ggcc...</td>\n",
       "    </tr>\n",
       "    <tr>\n",
       "      <th>102</th>\n",
       "      <td>1</td>\n",
       "      <td>gtattctcaacaagattaaccgacagattcaatctcgtggatggac...</td>\n",
       "      <td>57</td>\n",
       "      <td>gtatt tattc attct ttctc tctca ctcaa tcaac caac...</td>\n",
       "    </tr>\n",
       "    <tr>\n",
       "      <th>103</th>\n",
       "      <td>1</td>\n",
       "      <td>cgcgactacgatgagatgcctgagtgcttccgttactggattgtca...</td>\n",
       "      <td>57</td>\n",
       "      <td>cgcga gcgac cgact gacta actac ctacg tacga acga...</td>\n",
       "    </tr>\n",
       "    <tr>\n",
       "      <th>104</th>\n",
       "      <td>1</td>\n",
       "      <td>ctcgtcctcaatggcctctaaacgggtcttgaggggttttttgctg...</td>\n",
       "      <td>57</td>\n",
       "      <td>ctcgt tcgtc cgtcc gtcct tcctc cctca ctcaa tcaa...</td>\n",
       "    </tr>\n",
       "    <tr>\n",
       "      <th>105</th>\n",
       "      <td>1</td>\n",
       "      <td>taacattaataaataaggaggctctaatggcactcattagccaatc...</td>\n",
       "      <td>57</td>\n",
       "      <td>taaca aacat acatt catta attaa ttaat taata aata...</td>\n",
       "    </tr>\n",
       "  </tbody>\n",
       "</table>\n",
       "<p>106 rows × 4 columns</p>\n",
       "</div>"
      ],
      "text/plain": [
       "     class                                           sequence  seqlen  \\\n",
       "0        0  tactagcaatacgcttgcgttcggtggttaagtatgtataatgcgc...      57   \n",
       "1        0  tgctatcctgacagttgtcacgctgattggtgtcgttacaatctaa...      57   \n",
       "2        0  gtactagagaactagtgcattagcttatttttttgttatcatgcta...      57   \n",
       "3        0  aattgtgatgtgtatcgaagtgtgttgcggagtagatgttagaata...      57   \n",
       "4        0  tcgataattaactattgacgaaaagctgaaaaccactagaatgcgc...      57   \n",
       "..     ...                                                ...     ...   \n",
       "101      1  cctcaatggcctctaaacgggtcttgaggggttttttgctgaaagg...      57   \n",
       "102      1  gtattctcaacaagattaaccgacagattcaatctcgtggatggac...      57   \n",
       "103      1  cgcgactacgatgagatgcctgagtgcttccgttactggattgtca...      57   \n",
       "104      1  ctcgtcctcaatggcctctaaacgggtcttgaggggttttttgctg...      57   \n",
       "105      1  taacattaataaataaggaggctctaatggcactcattagccaatc...      57   \n",
       "\n",
       "                                                 kmers  \n",
       "0    tacta actag ctagc tagca agcaa gcaat caata aata...  \n",
       "1    tgcta gctat ctatc tatcc atcct tcctg cctga ctga...  \n",
       "2    gtact tacta actag ctaga tagag agaga gagaa agaa...  \n",
       "3    aattg attgt ttgtg tgtga gtgat tgatg gatgt atgt...  \n",
       "4    tcgat cgata gataa ataat taatt aatta attaa ttaa...  \n",
       "..                                                 ...  \n",
       "101  cctca ctcaa tcaat caatg aatgg atggc tggcc ggcc...  \n",
       "102  gtatt tattc attct ttctc tctca ctcaa tcaac caac...  \n",
       "103  cgcga gcgac cgact gacta actac ctacg tacga acga...  \n",
       "104  ctcgt tcgtc cgtcc gtcct tcctc cctca ctcaa tcaa...  \n",
       "105  taaca aacat acatt catta attaa ttaat taata aata...  \n",
       "\n",
       "[106 rows x 4 columns]"
      ]
     },
     "execution_count": 5,
     "metadata": {},
     "output_type": "execute_result"
    }
   ],
   "source": [
    "# convert sequences into 'sentences' of k-mers\n",
    "data['seqlen'] = data['sequence'].apply(len)\n",
    "data['kmers'] = data['sequence'].apply(lambda x: makekmer(x, size=5))\n",
    "# label encode class\n",
    "le = LabelEncoder()\n",
    "data['class'] = le.fit_transform(data['class'])\n",
    "print('classes: ',le.classes_)\n",
    "data"
   ]
  },
  {
   "cell_type": "code",
   "execution_count": 6,
   "id": "96ba9181",
   "metadata": {},
   "outputs": [
    {
     "data": {
      "text/plain": [
       "1    40\n",
       "0    39\n",
       "Name: class, dtype: int64"
      ]
     },
     "execution_count": 6,
     "metadata": {},
     "output_type": "execute_result"
    }
   ],
   "source": [
    "# split data into train and test sets\n",
    "trainx, testx, trainy, testy = train_test_split(data['kmers'], data['class'], \\\n",
    "                                                test_size=0.25, random_state=567, stratify=data['class'])\n",
    "trainy.value_counts()"
   ]
  },
  {
   "cell_type": "code",
   "execution_count": 7,
   "id": "a1737db5",
   "metadata": {
    "scrolled": true
   },
   "outputs": [
    {
     "data": {
      "text/plain": [
       "58     gccaa ccaat caatc aatca atcaa tcaat caatc aatc...\n",
       "103    cgcga gcgac cgact gacta actac ctacg tacga acga...\n",
       "19     gcaaa caaat aaata aataa ataat taatc aatca atca...\n",
       "15     aagca agcaa gcaaa caaag aaaga aagaa agaaa gaaa...\n",
       "27     tccag ccagt cagta agtat gtata tataa ataat taat...\n",
       "                             ...                        \n",
       "74     catga atgaa tgaac gaact aactc actca ctcaa tcaa...\n",
       "36     tcgtt cgttg gttgt ttgta tgtat gtata tatat atat...\n",
       "65     aactc actca ctcaa tcaag caagg aaggc aggct ggct...\n",
       "45     cacta actaa ctaat taatt aattt attta tttat ttat...\n",
       "42     ttagc tagcg agcgg gcgga cggat ggatc gatcc atcc...\n",
       "Name: kmers, Length: 79, dtype: object"
      ]
     },
     "execution_count": 7,
     "metadata": {},
     "output_type": "execute_result"
    }
   ],
   "source": [
    "trainx"
   ]
  },
  {
   "cell_type": "code",
   "execution_count": 8,
   "id": "0f944b99",
   "metadata": {
    "scrolled": true
   },
   "outputs": [
    {
     "name": "stdout",
     "output_type": "stream",
     "text": [
      "bag of words shape: (79, 2981)\n",
      "frequency of features\n",
      " 1     1131\n",
      "2      645\n",
      "3      407\n",
      "4      282\n",
      "5      194\n",
      "6      100\n",
      "7       83\n",
      "8       49\n",
      "9       29\n",
      "10      21\n",
      "11      15\n",
      "12       9\n",
      "14       7\n",
      "15       3\n",
      "13       3\n",
      "20       2\n",
      "16       1\n",
      "dtype: int64\n",
      "after dropping features, bag of words shape: (79, 1850)\n"
     ]
    },
    {
     "data": {
      "text/plain": [
       "2     645\n",
       "3     407\n",
       "4     282\n",
       "5     194\n",
       "6     100\n",
       "7      83\n",
       "8      49\n",
       "9      29\n",
       "10     21\n",
       "11     15\n",
       "12      9\n",
       "14      7\n",
       "13      3\n",
       "15      3\n",
       "20      2\n",
       "16      1\n",
       "dtype: int64"
      ]
     },
     "execution_count": 8,
     "metadata": {},
     "output_type": "execute_result"
    }
   ],
   "source": [
    "# create 'bag of words' from k-mers\n",
    "# features of single 5-mers and paired 5-mers \n",
    "vect = CountVectorizer(ngram_range=(1,2))\n",
    "bagofwords = vect.fit_transform(trainx)\n",
    "\n",
    "bagdf = pd.DataFrame(bagofwords.toarray())\n",
    "# (# samples, # total features)\n",
    "print('bag of words shape:', bagofwords.shape)\n",
    "\n",
    "# frequency of feature occurance in train set\n",
    "featfreq = bagdf.sum(axis=0)\n",
    "print('frequency of features\\n', featfreq.value_counts())\n",
    "\n",
    "# drop features with only 1 occurance\n",
    "cols = list(featfreq[featfreq==1].index)\n",
    "bag2 = bagdf.drop(bagdf.columns[cols], axis=1)\n",
    "\n",
    "print('after dropping features, bag of words shape:', bag2.shape)\n",
    "pd.Series(bag2.sum(axis=0)).value_counts()\n"
   ]
  },
  {
   "cell_type": "code",
   "execution_count": 9,
   "id": "7796b69e",
   "metadata": {},
   "outputs": [],
   "source": [
    "# function to drop features with only 1 occurance\n",
    "# input: bag of words, columns to drop if 'train' is set to False\n",
    "# output: reduced bag of words dataframe, list of dropped columns (if 'train' set to True) \n",
    "\n",
    "def only1(bagofwords, cols=None, train=True):\n",
    "    bowdf = pd.DataFrame(bagofwords.toarray())\n",
    "    \n",
    "    if train == True:\n",
    "        # frequency of feature occurance in train set\n",
    "        featfreq = bowdf.sum(axis=0)\n",
    "        # list of feature columns with only 1 occurance in train set\n",
    "        cols = list(featfreq[featfreq==1].index)\n",
    "\n",
    "        # drop features with only 1 occurance\n",
    "        bow2 = bowdf.drop(bowdf.columns[cols], axis=1)\n",
    "\n",
    "        return bow2, cols\n",
    "\n",
    "    # when test or validation bag of words, drop columns only\n",
    "    else:\n",
    "        # drop features with only 1 occurance\n",
    "        bow2 = bowdf.drop(bowdf.columns[cols], axis=1)\n",
    "\n",
    "        return bow2\n"
   ]
  },
  {
   "cell_type": "markdown",
   "id": "55e28242",
   "metadata": {},
   "source": [
    "Model"
   ]
  },
  {
   "cell_type": "code",
   "execution_count": 10,
   "id": "ef7f0562",
   "metadata": {},
   "outputs": [
    {
     "name": "stdout",
     "output_type": "stream",
     "text": [
      "Accuracy Scores:  [1.0, 0.75, 0.8125, 0.8125, 1.0]\n",
      "Mean Accuracy 0.875\n"
     ]
    }
   ],
   "source": [
    "# generate model\n",
    "# naive bayes\n",
    "\n",
    "score=[]\n",
    "\n",
    "# split training data into folds\n",
    "skf = StratifiedKFold(n_splits=5)\n",
    "for trainidx, validx in skf.split(trainx,trainy):\n",
    "    Xtrain, ytrain = trainx.iloc[trainidx], trainy.iloc[trainidx]\n",
    "    Xval, yval = trainx.iloc[validx], trainy.iloc[validx]\n",
    "    \n",
    "    # create bag of words from train fold\n",
    "    vect = CountVectorizer(ngram_range=(1,2))\n",
    "    Xtrain = vect.fit_transform(Xtrain)\n",
    "    \n",
    "    # drop features with only 1 occurance\n",
    "    Xtrain2, cols = only1(Xtrain)\n",
    "    \n",
    "    Xval = vect.transform(Xval)\n",
    "    Xval2 = only1(Xval, cols, train=False)\n",
    "   \n",
    "    # fit classifier\n",
    "    clf = BernoulliNB()\n",
    "    clf.fit(Xtrain2, ytrain)\n",
    "    \n",
    "    # store score on validation set\n",
    "    score.append(clf.score(Xval2, yval))\n",
    "        \n",
    "print('Accuracy Scores: ', score)\n",
    "print('Mean Accuracy', np.mean(score))\n"
   ]
  },
  {
   "cell_type": "code",
   "execution_count": 11,
   "id": "4979d1df",
   "metadata": {},
   "outputs": [
    {
     "name": "stdout",
     "output_type": "stream",
     "text": [
      "Accuracy:  0.9629629629629629\n"
     ]
    }
   ],
   "source": [
    "# apply model to test set\n",
    "# naive bayes\n",
    "\n",
    "# create bag of words from train set\n",
    "vect = CountVectorizer(ngram_range=(1,2))\n",
    "trainbow = vect.fit_transform(trainx)\n",
    "\n",
    "# drop features with only 1 occurance\n",
    "trainbow2, cols = only1(trainbow)\n",
    "\n",
    "testbow = vect.transform(testx)\n",
    "testbow2 = only1(testbow, cols, train=False)\n",
    "\n",
    "# fit classifier\n",
    "clf = BernoulliNB()\n",
    "clf.fit(trainbow2, trainy)\n",
    "\n",
    "# store score on validation set\n",
    "ypred = clf.predict(testbow2)\n",
    "\n",
    "# store probability estimates\n",
    "yprob = clf.predict_proba(testbow2)\n",
    "\n",
    "print('Accuracy: ', clf.score(testbow2, testy))"
   ]
  },
  {
   "cell_type": "code",
   "execution_count": 12,
   "id": "9d156461",
   "metadata": {},
   "outputs": [
    {
     "data": {
      "text/plain": [
       "<sklearn.metrics._plot.confusion_matrix.ConfusionMatrixDisplay at 0x20ae3dcbf70>"
      ]
     },
     "execution_count": 12,
     "metadata": {},
     "output_type": "execute_result"
    },
    {
     "data": {
      "image/png": "[encoded data removed]",
      "text/plain": [
       "<Figure size 432x288 with 2 Axes>"
      ]
     },
     "metadata": {
      "needs_background": "light"
     },
     "output_type": "display_data"
    }
   ],
   "source": [
    "ConfusionMatrixDisplay.from_predictions(testy, ypred, display_labels=['+','-'])"
   ]
  },
  {
   "cell_type": "code",
   "execution_count": 13,
   "id": "9f034ef7",
   "metadata": {},
   "outputs": [
    {
     "name": "stdout",
     "output_type": "stream",
     "text": [
      "Precision:  [0.93333333 1.        ]\n",
      "Recall:  [1.         0.92307692]\n"
     ]
    }
   ],
   "source": [
    "# misclassified 1 promoter\n",
    "precision, recall, fscore, support = precision_recall_fscore_support(testy, ypred)\n",
    "print('Precision: ', precision)\n",
    "print('Recall: ', recall)"
   ]
  },
  {
   "cell_type": "code",
   "execution_count": 14,
   "id": "2602914e",
   "metadata": {},
   "outputs": [
    {
     "data": {
      "text/plain": [
       "<sklearn.metrics._plot.roc_curve.RocCurveDisplay at 0x20ae5116eb0>"
      ]
     },
     "execution_count": 14,
     "metadata": {},
     "output_type": "execute_result"
    },
    {
     "data": {
      "image/png": "[encoded data removed]",
      "text/plain": [
       "<Figure size 432x288 with 1 Axes>"
      ]
     },
     "metadata": {
      "needs_background": "light"
     },
     "output_type": "display_data"
    }
   ],
   "source": [
    "# naive bayes ROC \n",
    "# using probability estimates of positive class (probability of being a promoter)\n",
    "RocCurveDisplay.from_predictions(testy, yprob[:,0], pos_label=0)"
   ]
  },
  {
   "cell_type": "code",
   "execution_count": 15,
   "id": "8ac9c95b",
   "metadata": {},
   "outputs": [
    {
     "name": "stdout",
     "output_type": "stream",
     "text": [
      "Accuracy Scores:  [0.8125, 0.875, 0.875, 0.875, 1.0]\n",
      "Mean Accuracy 0.8875\n"
     ]
    }
   ],
   "source": [
    "# generate model\n",
    "# logistic regression, l2\n",
    "\n",
    "score=[]\n",
    "\n",
    "# split training data into folds\n",
    "skf = StratifiedKFold(n_splits=5)\n",
    "for trainidx, validx in skf.split(trainx,trainy):\n",
    "    Xtrain, ytrain = trainx.iloc[trainidx], trainy.iloc[trainidx]\n",
    "    Xval, yval = trainx.iloc[validx], trainy.iloc[validx]\n",
    "    \n",
    "    # create bag of words from train fold\n",
    "    vect = CountVectorizer(ngram_range=(1,2))\n",
    "    Xtrain = vect.fit_transform(Xtrain)\n",
    "    \n",
    "    # drop features with only 1 occurance\n",
    "    Xtrain2, cols = only1(Xtrain)\n",
    "    \n",
    "    Xval = vect.transform(Xval)\n",
    "    Xval2 = only1(Xval, cols, train=False)\n",
    "   \n",
    "    # fit classifier\n",
    "    clf = LogisticRegression(solver='liblinear', penalty='l2')\n",
    "    clf.fit(Xtrain2, ytrain)\n",
    "    \n",
    "    # store score on validation set\n",
    "    score.append(clf.score(Xval2, yval))\n",
    "    \n",
    "print('Accuracy Scores: ', score)\n",
    "print('Mean Accuracy', np.mean(score))\n"
   ]
  },
  {
   "cell_type": "code",
   "execution_count": 16,
   "id": "926bf772",
   "metadata": {},
   "outputs": [
    {
     "name": "stdout",
     "output_type": "stream",
     "text": [
      "Accuracy:  1.0\n"
     ]
    }
   ],
   "source": [
    "# apply model to test set\n",
    "# logistic regression\n",
    "\n",
    "# create bag of words from train fold\n",
    "vect = CountVectorizer(ngram_range=(1,2))\n",
    "trainbow = vect.fit_transform(trainx)\n",
    "\n",
    "# drop features with only 1 occurance\n",
    "trainbow2, cols = only1(trainbow)\n",
    "\n",
    "testbow = vect.transform(testx)\n",
    "testbow2 = only1(testbow, cols, train=False)\n",
    "\n",
    "# fit classifier\n",
    "clf = LogisticRegression(solver='liblinear', penalty='l2')\n",
    "clf.fit(trainbow2, trainy)\n",
    "\n",
    "# store score on validation set\n",
    "ypred = clf.predict(testbow2)\n",
    "\n",
    "# store probability estimates\n",
    "yprob = clf.predict_proba(testbow2)\n",
    "\n",
    "print('Accuracy: ', clf.score(testbow2, testy))"
   ]
  },
  {
   "cell_type": "code",
   "execution_count": 17,
   "id": "4aa3cef3",
   "metadata": {},
   "outputs": [
    {
     "data": {
      "text/plain": [
       "<sklearn.metrics._plot.roc_curve.RocCurveDisplay at 0x20ae521f550>"
      ]
     },
     "execution_count": 17,
     "metadata": {},
     "output_type": "execute_result"
    },
    {
     "data": {
      "image/png": "[encoded data removed]",
      "text/plain": [
       "<Figure size 432x288 with 1 Axes>"
      ]
     },
     "metadata": {
      "needs_background": "light"
     },
     "output_type": "display_data"
    }
   ],
   "source": [
    "# logistic regression ROC \n",
    "# using probability estimates of positive class (probability of being a promoter)\n",
    "#fpr, tpr, thresholds = roc_curve(testy, yprob[:,0], pos_label=0)\n",
    "#plt.plot(fpr, tpr)   \n",
    "RocCurveDisplay.from_predictions(testy, yprob[:,0], pos_label=0)"
   ]
  },
  {
   "cell_type": "code",
   "execution_count": null,
   "id": "5276f0b9",
   "metadata": {},
   "outputs": [],
   "source": []
  }
 ],
 "metadata": {
  "kernelspec": {
   "display_name": "Python 3 (ipykernel)",
   "language": "python",
   "name": "python3"
  },
  "language_info": {
   "codemirror_mode": {
    "name": "ipython",
    "version": 3
   },
   "file_extension": ".py",
   "mimetype": "text/x-python",
   "name": "python",
   "nbconvert_exporter": "python",
   "pygments_lexer": "ipython3",
   "version": "3.9.12"
  }
 },
 "nbformat": 4,
 "nbformat_minor": 5
}
