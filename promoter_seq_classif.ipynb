{
 "cells": [
  {
   "cell_type": "code",
   "execution_count": 13,
   "id": "8cd7a0ca",
   "metadata": {},
   "outputs": [],
   "source": [
    "import numpy as np\n",
    "import pandas as pd\n",
    "from sklearn.preprocessing import LabelEncoder\n",
    "from sklearn.model_selection import train_test_split, StratifiedKFold\n",
    "from sklearn.feature_extraction.text import CountVectorizer\n",
    "from sklearn.naive_bayes import BernoulliNB\n",
    "from sklearn.metrics import ConfusionMatrixDisplay, precision_recall_fscore_support"
   ]
  },
  {
   "cell_type": "markdown",
   "id": "08a1ca6a",
   "metadata": {},
   "source": [
    "Take a look at data"
   ]
  },
  {
   "cell_type": "code",
   "execution_count": 14,
   "id": "34f1249a",
   "metadata": {},
   "outputs": [
    {
     "data": {
      "text/html": [
       "<div>\n",
       "<style scoped>\n",
       "    .dataframe tbody tr th:only-of-type {\n",
       "        vertical-align: middle;\n",
       "    }\n",
       "\n",
       "    .dataframe tbody tr th {\n",
       "        vertical-align: top;\n",
       "    }\n",
       "\n",
       "    .dataframe thead th {\n",
       "        text-align: right;\n",
       "    }\n",
       "</style>\n",
       "<table border=\"1\" class=\"dataframe\">\n",
       "  <thead>\n",
       "    <tr style=\"text-align: right;\">\n",
       "      <th></th>\n",
       "      <th>class</th>\n",
       "      <th>name</th>\n",
       "      <th>sequence</th>\n",
       "    </tr>\n",
       "  </thead>\n",
       "  <tbody>\n",
       "    <tr>\n",
       "      <th>0</th>\n",
       "      <td>+</td>\n",
       "      <td>S10</td>\n",
       "      <td>tactagcaatacgcttgcgttcggtggttaagtatgtataatgcgc...</td>\n",
       "    </tr>\n",
       "    <tr>\n",
       "      <th>1</th>\n",
       "      <td>+</td>\n",
       "      <td>AMPC</td>\n",
       "      <td>tgctatcctgacagttgtcacgctgattggtgtcgttacaatctaa...</td>\n",
       "    </tr>\n",
       "    <tr>\n",
       "      <th>2</th>\n",
       "      <td>+</td>\n",
       "      <td>AROH</td>\n",
       "      <td>gtactagagaactagtgcattagcttatttttttgttatcatgcta...</td>\n",
       "    </tr>\n",
       "    <tr>\n",
       "      <th>3</th>\n",
       "      <td>+</td>\n",
       "      <td>DEOP2</td>\n",
       "      <td>aattgtgatgtgtatcgaagtgtgttgcggagtagatgttagaata...</td>\n",
       "    </tr>\n",
       "    <tr>\n",
       "      <th>4</th>\n",
       "      <td>+</td>\n",
       "      <td>LEU1_TRNA</td>\n",
       "      <td>tcgataattaactattgacgaaaagctgaaaaccactagaatgcgc...</td>\n",
       "    </tr>\n",
       "    <tr>\n",
       "      <th>...</th>\n",
       "      <td>...</td>\n",
       "      <td>...</td>\n",
       "      <td>...</td>\n",
       "    </tr>\n",
       "    <tr>\n",
       "      <th>101</th>\n",
       "      <td>-</td>\n",
       "      <td>799</td>\n",
       "      <td>cctcaatggcctctaaacgggtcttgaggggttttttgctgaaagg...</td>\n",
       "    </tr>\n",
       "    <tr>\n",
       "      <th>102</th>\n",
       "      <td>-</td>\n",
       "      <td>987</td>\n",
       "      <td>gtattctcaacaagattaaccgacagattcaatctcgtggatggac...</td>\n",
       "    </tr>\n",
       "    <tr>\n",
       "      <th>103</th>\n",
       "      <td>-</td>\n",
       "      <td>1226</td>\n",
       "      <td>cgcgactacgatgagatgcctgagtgcttccgttactggattgtca...</td>\n",
       "    </tr>\n",
       "    <tr>\n",
       "      <th>104</th>\n",
       "      <td>-</td>\n",
       "      <td>794</td>\n",
       "      <td>ctcgtcctcaatggcctctaaacgggtcttgaggggttttttgctg...</td>\n",
       "    </tr>\n",
       "    <tr>\n",
       "      <th>105</th>\n",
       "      <td>-</td>\n",
       "      <td>1442</td>\n",
       "      <td>taacattaataaataaggaggctctaatggcactcattagccaatc...</td>\n",
       "    </tr>\n",
       "  </tbody>\n",
       "</table>\n",
       "<p>106 rows × 3 columns</p>\n",
       "</div>"
      ],
      "text/plain": [
       "    class       name                                           sequence\n",
       "0       +        S10  tactagcaatacgcttgcgttcggtggttaagtatgtataatgcgc...\n",
       "1       +       AMPC  tgctatcctgacagttgtcacgctgattggtgtcgttacaatctaa...\n",
       "2       +       AROH  gtactagagaactagtgcattagcttatttttttgttatcatgcta...\n",
       "3       +      DEOP2  aattgtgatgtgtatcgaagtgtgttgcggagtagatgttagaata...\n",
       "4       +  LEU1_TRNA  tcgataattaactattgacgaaaagctgaaaaccactagaatgcgc...\n",
       "..    ...        ...                                                ...\n",
       "101     -        799  cctcaatggcctctaaacgggtcttgaggggttttttgctgaaagg...\n",
       "102     -        987  gtattctcaacaagattaaccgacagattcaatctcgtggatggac...\n",
       "103     -       1226  cgcgactacgatgagatgcctgagtgcttccgttactggattgtca...\n",
       "104     -        794  ctcgtcctcaatggcctctaaacgggtcttgaggggttttttgctg...\n",
       "105     -       1442  taacattaataaataaggaggctctaatggcactcattagccaatc...\n",
       "\n",
       "[106 rows x 3 columns]"
      ]
     },
     "execution_count": 14,
     "metadata": {},
     "output_type": "execute_result"
    }
   ],
   "source": [
    "data = pd.read_csv('promoter_seq.csv', index_col=[0])\n",
    "data"
   ]
  },
  {
   "cell_type": "code",
   "execution_count": 15,
   "id": "313aae87",
   "metadata": {},
   "outputs": [
    {
     "name": "stdout",
     "output_type": "stream",
     "text": [
      "Classes. + if promoter, - if non-promoter\n",
      "+    53\n",
      "-    53\n",
      "Name: class, dtype: int64\n",
      "<class 'pandas.core.frame.DataFrame'>\n",
      "Int64Index: 106 entries, 0 to 105\n",
      "Data columns (total 2 columns):\n",
      " #   Column    Non-Null Count  Dtype \n",
      "---  ------    --------------  ----- \n",
      " 0   class     106 non-null    object\n",
      " 1   sequence  106 non-null    object\n",
      "dtypes: object(2)\n",
      "memory usage: 2.5+ KB\n"
     ]
    }
   ],
   "source": [
    "data = data.drop('name', axis=1)\n",
    "print('Classes. + if promoter, - if non-promoter')\n",
    "print(data['class'].value_counts())\n",
    "data.info()"
   ]
  },
  {
   "cell_type": "markdown",
   "id": "6b5e238e",
   "metadata": {},
   "source": [
    "Prepare data for model"
   ]
  },
  {
   "cell_type": "code",
   "execution_count": 16,
   "id": "030e50f9",
   "metadata": {},
   "outputs": [],
   "source": [
    "def makekmer(sequence, size):\n",
    "    # make list of k-mers of length 'size' from sequence\n",
    "    kmers = [sequence[x:x+size] for x in range(len(sequence) - size + 1)]\n",
    "    # join k-mers into sentence\n",
    "    kmers = ' '.join(kmers)\n",
    "    return kmers"
   ]
  },
  {
   "cell_type": "code",
   "execution_count": 17,
   "id": "0555b56d",
   "metadata": {},
   "outputs": [
    {
     "name": "stdout",
     "output_type": "stream",
     "text": [
      "classes:  ['+' '-']\n"
     ]
    },
    {
     "data": {
      "text/html": [
       "<div>\n",
       "<style scoped>\n",
       "    .dataframe tbody tr th:only-of-type {\n",
       "        vertical-align: middle;\n",
       "    }\n",
       "\n",
       "    .dataframe tbody tr th {\n",
       "        vertical-align: top;\n",
       "    }\n",
       "\n",
       "    .dataframe thead th {\n",
       "        text-align: right;\n",
       "    }\n",
       "</style>\n",
       "<table border=\"1\" class=\"dataframe\">\n",
       "  <thead>\n",
       "    <tr style=\"text-align: right;\">\n",
       "      <th></th>\n",
       "      <th>class</th>\n",
       "      <th>sequence</th>\n",
       "      <th>seqlen</th>\n",
       "      <th>kmers</th>\n",
       "    </tr>\n",
       "  </thead>\n",
       "  <tbody>\n",
       "    <tr>\n",
       "      <th>0</th>\n",
       "      <td>0</td>\n",
       "      <td>tactagcaatacgcttgcgttcggtggttaagtatgtataatgcgc...</td>\n",
       "      <td>57</td>\n",
       "      <td>tacta actag ctagc tagca agcaa gcaat caata aata...</td>\n",
       "    </tr>\n",
       "    <tr>\n",
       "      <th>1</th>\n",
       "      <td>0</td>\n",
       "      <td>tgctatcctgacagttgtcacgctgattggtgtcgttacaatctaa...</td>\n",
       "      <td>57</td>\n",
       "      <td>tgcta gctat ctatc tatcc atcct tcctg cctga ctga...</td>\n",
       "    </tr>\n",
       "    <tr>\n",
       "      <th>2</th>\n",
       "      <td>0</td>\n",
       "      <td>gtactagagaactagtgcattagcttatttttttgttatcatgcta...</td>\n",
       "      <td>57</td>\n",
       "      <td>gtact tacta actag ctaga tagag agaga gagaa agaa...</td>\n",
       "    </tr>\n",
       "    <tr>\n",
       "      <th>3</th>\n",
       "      <td>0</td>\n",
       "      <td>aattgtgatgtgtatcgaagtgtgttgcggagtagatgttagaata...</td>\n",
       "      <td>57</td>\n",
       "      <td>aattg attgt ttgtg tgtga gtgat tgatg gatgt atgt...</td>\n",
       "    </tr>\n",
       "    <tr>\n",
       "      <th>4</th>\n",
       "      <td>0</td>\n",
       "      <td>tcgataattaactattgacgaaaagctgaaaaccactagaatgcgc...</td>\n",
       "      <td>57</td>\n",
       "      <td>tcgat cgata gataa ataat taatt aatta attaa ttaa...</td>\n",
       "    </tr>\n",
       "    <tr>\n",
       "      <th>...</th>\n",
       "      <td>...</td>\n",
       "      <td>...</td>\n",
       "      <td>...</td>\n",
       "      <td>...</td>\n",
       "    </tr>\n",
       "    <tr>\n",
       "      <th>101</th>\n",
       "      <td>1</td>\n",
       "      <td>cctcaatggcctctaaacgggtcttgaggggttttttgctgaaagg...</td>\n",
       "      <td>57</td>\n",
       "      <td>cctca ctcaa tcaat caatg aatgg atggc tggcc ggcc...</td>\n",
       "    </tr>\n",
       "    <tr>\n",
       "      <th>102</th>\n",
       "      <td>1</td>\n",
       "      <td>gtattctcaacaagattaaccgacagattcaatctcgtggatggac...</td>\n",
       "      <td>57</td>\n",
       "      <td>gtatt tattc attct ttctc tctca ctcaa tcaac caac...</td>\n",
       "    </tr>\n",
       "    <tr>\n",
       "      <th>103</th>\n",
       "      <td>1</td>\n",
       "      <td>cgcgactacgatgagatgcctgagtgcttccgttactggattgtca...</td>\n",
       "      <td>57</td>\n",
       "      <td>cgcga gcgac cgact gacta actac ctacg tacga acga...</td>\n",
       "    </tr>\n",
       "    <tr>\n",
       "      <th>104</th>\n",
       "      <td>1</td>\n",
       "      <td>ctcgtcctcaatggcctctaaacgggtcttgaggggttttttgctg...</td>\n",
       "      <td>57</td>\n",
       "      <td>ctcgt tcgtc cgtcc gtcct tcctc cctca ctcaa tcaa...</td>\n",
       "    </tr>\n",
       "    <tr>\n",
       "      <th>105</th>\n",
       "      <td>1</td>\n",
       "      <td>taacattaataaataaggaggctctaatggcactcattagccaatc...</td>\n",
       "      <td>57</td>\n",
       "      <td>taaca aacat acatt catta attaa ttaat taata aata...</td>\n",
       "    </tr>\n",
       "  </tbody>\n",
       "</table>\n",
       "<p>106 rows × 4 columns</p>\n",
       "</div>"
      ],
      "text/plain": [
       "     class                                           sequence  seqlen  \\\n",
       "0        0  tactagcaatacgcttgcgttcggtggttaagtatgtataatgcgc...      57   \n",
       "1        0  tgctatcctgacagttgtcacgctgattggtgtcgttacaatctaa...      57   \n",
       "2        0  gtactagagaactagtgcattagcttatttttttgttatcatgcta...      57   \n",
       "3        0  aattgtgatgtgtatcgaagtgtgttgcggagtagatgttagaata...      57   \n",
       "4        0  tcgataattaactattgacgaaaagctgaaaaccactagaatgcgc...      57   \n",
       "..     ...                                                ...     ...   \n",
       "101      1  cctcaatggcctctaaacgggtcttgaggggttttttgctgaaagg...      57   \n",
       "102      1  gtattctcaacaagattaaccgacagattcaatctcgtggatggac...      57   \n",
       "103      1  cgcgactacgatgagatgcctgagtgcttccgttactggattgtca...      57   \n",
       "104      1  ctcgtcctcaatggcctctaaacgggtcttgaggggttttttgctg...      57   \n",
       "105      1  taacattaataaataaggaggctctaatggcactcattagccaatc...      57   \n",
       "\n",
       "                                                 kmers  \n",
       "0    tacta actag ctagc tagca agcaa gcaat caata aata...  \n",
       "1    tgcta gctat ctatc tatcc atcct tcctg cctga ctga...  \n",
       "2    gtact tacta actag ctaga tagag agaga gagaa agaa...  \n",
       "3    aattg attgt ttgtg tgtga gtgat tgatg gatgt atgt...  \n",
       "4    tcgat cgata gataa ataat taatt aatta attaa ttaa...  \n",
       "..                                                 ...  \n",
       "101  cctca ctcaa tcaat caatg aatgg atggc tggcc ggcc...  \n",
       "102  gtatt tattc attct ttctc tctca ctcaa tcaac caac...  \n",
       "103  cgcga gcgac cgact gacta actac ctacg tacga acga...  \n",
       "104  ctcgt tcgtc cgtcc gtcct tcctc cctca ctcaa tcaa...  \n",
       "105  taaca aacat acatt catta attaa ttaat taata aata...  \n",
       "\n",
       "[106 rows x 4 columns]"
      ]
     },
     "execution_count": 17,
     "metadata": {},
     "output_type": "execute_result"
    }
   ],
   "source": [
    "# convert sequences into 'sentences' of k-mers\n",
    "data['seqlen'] = data['sequence'].apply(len)\n",
    "data['kmers'] = data['sequence'].apply(lambda x: makekmer(x, size=5))\n",
    "# label encode class\n",
    "le = LabelEncoder()\n",
    "data['class'] = le.fit_transform(data['class'])\n",
    "print('classes: ',le.classes_)\n",
    "data"
   ]
  },
  {
   "cell_type": "code",
   "execution_count": 18,
   "id": "96ba9181",
   "metadata": {},
   "outputs": [
    {
     "data": {
      "text/plain": [
       "1    40\n",
       "0    39\n",
       "Name: class, dtype: int64"
      ]
     },
     "execution_count": 18,
     "metadata": {},
     "output_type": "execute_result"
    }
   ],
   "source": [
    "# split data into train and test sets\n",
    "trainx, testx, trainy, testy = train_test_split(data['kmers'], data['class'], \\\n",
    "                                                test_size=0.25, random_state=567, stratify=data['class'])\n",
    "trainy.value_counts()"
   ]
  },
  {
   "cell_type": "code",
   "execution_count": 19,
   "id": "a1737db5",
   "metadata": {
    "scrolled": true
   },
   "outputs": [
    {
     "data": {
      "text/plain": [
       "58     gccaa ccaat caatc aatca atcaa tcaat caatc aatc...\n",
       "103    cgcga gcgac cgact gacta actac ctacg tacga acga...\n",
       "19     gcaaa caaat aaata aataa ataat taatc aatca atca...\n",
       "15     aagca agcaa gcaaa caaag aaaga aagaa agaaa gaaa...\n",
       "27     tccag ccagt cagta agtat gtata tataa ataat taat...\n",
       "                             ...                        \n",
       "74     catga atgaa tgaac gaact aactc actca ctcaa tcaa...\n",
       "36     tcgtt cgttg gttgt ttgta tgtat gtata tatat atat...\n",
       "65     aactc actca ctcaa tcaag caagg aaggc aggct ggct...\n",
       "45     cacta actaa ctaat taatt aattt attta tttat ttat...\n",
       "42     ttagc tagcg agcgg gcgga cggat ggatc gatcc atcc...\n",
       "Name: kmers, Length: 79, dtype: object"
      ]
     },
     "execution_count": 19,
     "metadata": {},
     "output_type": "execute_result"
    }
   ],
   "source": [
    "trainx"
   ]
  },
  {
   "cell_type": "code",
   "execution_count": 20,
   "id": "0f944b99",
   "metadata": {},
   "outputs": [
    {
     "name": "stdout",
     "output_type": "stream",
     "text": [
      "(79, 2042)\n"
     ]
    },
    {
     "data": {
      "text/plain": [
       "1     1003\n",
       "2      515\n",
       "3      250\n",
       "4      150\n",
       "5       73\n",
       "6       19\n",
       "7       18\n",
       "8        8\n",
       "9        5\n",
       "11       1\n",
       "dtype: int64"
      ]
     },
     "execution_count": 20,
     "metadata": {},
     "output_type": "execute_result"
    }
   ],
   "source": [
    "# create 'bag of words' from k-mers\n",
    "vect = CountVectorizer(ngram_range=(2,2))\n",
    "bagofwords = vect.fit_transform(trainx)\n",
    "# (# samples, # total k-mers)\n",
    "print(bagofwords.shape)\n",
    "# frequency of k-mer occurance in train set\n",
    "pd.Series(bagofwords.toarray().sum(axis=0)).value_counts()"
   ]
  },
  {
   "cell_type": "markdown",
   "id": "55e28242",
   "metadata": {},
   "source": [
    "Model"
   ]
  },
  {
   "cell_type": "code",
   "execution_count": 21,
   "id": "ef7f0562",
   "metadata": {},
   "outputs": [
    {
     "name": "stdout",
     "output_type": "stream",
     "text": [
      "Accuracy Scores:  [0.875, 0.875, 0.9375, 0.875, 1.0]\n",
      "Mean Accuracy 0.9125\n"
     ]
    }
   ],
   "source": [
    "# generate model\n",
    "\n",
    "score=[]\n",
    "\n",
    "# split training data into folds\n",
    "skf = StratifiedKFold(n_splits=5)\n",
    "for trainidx, validx in skf.split(trainx,trainy):\n",
    "    Xtrain, ytrain = trainx.iloc[trainidx], trainy.iloc[trainidx]\n",
    "    Xval, yval = trainx.iloc[validx], trainy.iloc[validx]\n",
    "    \n",
    "    # create bag of words from train fold\n",
    "    vect = CountVectorizer(ngram_range=(2,2))\n",
    "    Xtrain = vect.fit_transform(Xtrain)\n",
    "    \n",
    "    Xval = vect.transform(Xval)\n",
    "    \n",
    "    # fit classifier\n",
    "    clf = BernoulliNB()\n",
    "    clf.fit(Xtrain, ytrain)\n",
    "    \n",
    "    # store score on validation set\n",
    "    score.append(clf.score(Xval, yval))\n",
    "    \n",
    "print('Accuracy Scores: ', score)\n",
    "print('Mean Accuracy', np.mean(score))\n"
   ]
  },
  {
   "cell_type": "code",
   "execution_count": 23,
   "id": "4979d1df",
   "metadata": {},
   "outputs": [
    {
     "name": "stdout",
     "output_type": "stream",
     "text": [
      "Accuracy:  0.9259259259259259\n"
     ]
    }
   ],
   "source": [
    "# apply model to test set\n",
    "\n",
    "# create bag of words from train fold\n",
    "vect = CountVectorizer(ngram_range=(2,2))\n",
    "trainbow = vect.fit_transform(trainx)\n",
    "\n",
    "testbow = vect.transform(testx)\n",
    "\n",
    "# fit classifier\n",
    "clf = BernoulliNB()\n",
    "clf.fit(trainbow, trainy)\n",
    "\n",
    "# store score on validation set\n",
    "ypred = clf.predict(testbow)\n",
    "print('Accuracy: ', clf.score(testbow, testy))"
   ]
  },
  {
   "cell_type": "code",
   "execution_count": 24,
   "id": "9d156461",
   "metadata": {},
   "outputs": [
    {
     "data": {
      "text/plain": [
       "<sklearn.metrics._plot.confusion_matrix.ConfusionMatrixDisplay at 0x14dec21e040>"
      ]
     },
     "execution_count": 24,
     "metadata": {},
     "output_type": "execute_result"
    },
    {
     "data": {
      "image/png": "[encoded data removed]",
      "text/plain": [
       "<Figure size 432x288 with 2 Axes>"
      ]
     },
     "metadata": {
      "needs_background": "light"
     },
     "output_type": "display_data"
    }
   ],
   "source": [
    "ConfusionMatrixDisplay.from_predictions(testy, ypred, display_labels=['+','-'])"
   ]
  },
  {
   "cell_type": "code",
   "execution_count": 25,
   "id": "9f034ef7",
   "metadata": {},
   "outputs": [
    {
     "name": "stdout",
     "output_type": "stream",
     "text": [
      "Precision:  [1.         0.86666667]\n",
      "Recall:  [0.85714286 1.        ]\n"
     ]
    }
   ],
   "source": [
    "# misclassified 2 promoters\n",
    "precision, recall, fscore, support = precision_recall_fscore_support(testy, ypred)\n",
    "print('Precision: ', precision)\n",
    "print('Recall: ', recall)"
   ]
  },
  {
   "cell_type": "code",
   "execution_count": null,
   "id": "8ac9c95b",
   "metadata": {},
   "outputs": [],
   "source": []
  }
 ],
 "metadata": {
  "kernelspec": {
   "display_name": "Python 3 (ipykernel)",
   "language": "python",
   "name": "python3"
  },
  "language_info": {
   "codemirror_mode": {
    "name": "ipython",
    "version": 3
   },
   "file_extension": ".py",
   "mimetype": "text/x-python",
   "name": "python",
   "nbconvert_exporter": "python",
   "pygments_lexer": "ipython3",
   "version": "3.8.3"
  }
 },
 "nbformat": 4,
 "nbformat_minor": 5
}
